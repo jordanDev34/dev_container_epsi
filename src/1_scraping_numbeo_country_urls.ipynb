{
 "cells": [
  {
   "cell_type": "markdown",
   "metadata": {},
   "source": [
    "# Scraping URLs of Countries from Numbeo's Homepage"
   ]
  },
  {
   "cell_type": "markdown",
   "metadata": {},
   "source": [
    "I. Import & config"
   ]
  },
  {
   "cell_type": "code",
   "execution_count": 9,
   "metadata": {},
   "outputs": [],
   "source": [
    "import requests\n",
    "from bs4 import BeautifulSoup\n",
    "import pandas as pd\n",
    "import re"
   ]
  },
  {
   "cell_type": "code",
   "execution_count": 10,
   "metadata": {},
   "outputs": [],
   "source": [
    "headers = {\n",
    "    'User-Agent': 'Mozilla/5.0 (Windows NT 10.0; Win64; x64) AppleWebKit/537.36 (KHTML, like Gecko) Chrome/58.0.3029.110 Safari/537.3'\n",
    "}"
   ]
  },
  {
   "cell_type": "markdown",
   "metadata": {},
   "source": [
    "II. Get data"
   ]
  },
  {
   "cell_type": "code",
   "execution_count": 11,
   "metadata": {},
   "outputs": [],
   "source": [
    "# URL de la page d'accueil de Numbeo\n",
    "url = \"https://www.numbeo.com/cost-of-living/\""
   ]
  },
  {
   "cell_type": "code",
   "execution_count": 12,
   "metadata": {},
   "outputs": [],
   "source": [
    "# Envoie de la requête à la page\n",
    "response = requests.get(url)"
   ]
  },
  {
   "cell_type": "code",
   "execution_count": 13,
   "metadata": {},
   "outputs": [],
   "source": [
    "soup = BeautifulSoup(response.text, 'html.parser')\n",
    "# Je trouve le tableau qui contient les liens vers les pays (related_link)   \n",
    "table = soup.find('table', {'class': 'related_links'})\n",
    "\n",
    "# Je trouve tous les liens <a> dans le tableau    \n",
    "country_links = table.find_all('a')\n",
    "    \n",
    "# J'extraie les attributs href (URLs)    \n",
    "country_urls = [link.get('href') for link in country_links]"
   ]
  },
  {
   "cell_type": "code",
   "execution_count": 14,
   "metadata": {},
   "outputs": [],
   "source": [
    "# Requête HTTP pour obtenir le contenu de la page\n",
    "response = requests.get(url, headers=headers)\n",
    "soup = BeautifulSoup(response.text, 'html.parser')"
   ]
  },
  {
   "cell_type": "markdown",
   "metadata": {},
   "source": [
    "III. Main"
   ]
  },
  {
   "cell_type": "code",
   "execution_count": 15,
   "metadata": {},
   "outputs": [
    {
     "name": "stdout",
     "output_type": "stream",
     "text": [
      "                                       Country_URL\n",
      "0           country_result.jsp?country=Afghanistan\n",
      "1         country_result.jsp?country=Aland+Islands\n",
      "2               country_result.jsp?country=Albania\n",
      "3              country_result.jsp?country=Alderney\n",
      "4               country_result.jsp?country=Algeria\n",
      "5        country_result.jsp?country=American+Samoa\n",
      "6               country_result.jsp?country=Andorra\n",
      "7                country_result.jsp?country=Angola\n",
      "8              country_result.jsp?country=Anguilla\n",
      "9   country_result.jsp?country=Antigua+And+Barbuda\n",
      "10            country_result.jsp?country=Argentina\n",
      "11              country_result.jsp?country=Armenia\n",
      "12                country_result.jsp?country=Aruba\n",
      "13            country_result.jsp?country=Australia\n",
      "14              country_result.jsp?country=Austria\n"
     ]
    }
   ],
   "source": [
    "# Création d'un DataFrame pour organiser les données ( DataFrame Pandas)\n",
    "df = pd.DataFrame(country_urls, columns=[\"Country_URL\"])\n",
    "\n",
    "# J'affiche les 15 premières lignes\n",
    "print(df.head(15))"
   ]
  },
  {
   "cell_type": "markdown",
   "metadata": {},
   "source": [
    "IV. Extraction des données en fichier CSV"
   ]
  },
  {
   "cell_type": "code",
   "execution_count": 16,
   "metadata": {},
   "outputs": [
    {
     "name": "stdout",
     "output_type": "stream",
     "text": [
      "L'url des pays a été enregistrée dans 'numbeo_country_urls.csv'.\n"
     ]
    }
   ],
   "source": [
    "df.to_csv('numbeo_country_urls.csv', index=False, encoding='utf-8')\n",
    "print(\"L'url des pays a été enregistrée dans 'numbeo_country_urls.csv'.\")"
   ]
  }
 ],
 "metadata": {
  "kernelspec": {
   "display_name": "Python 3",
   "language": "python",
   "name": "python3"
  },
  "language_info": {
   "codemirror_mode": {
    "name": "ipython",
    "version": 3
   },
   "file_extension": ".py",
   "mimetype": "text/x-python",
   "name": "python",
   "nbconvert_exporter": "python",
   "pygments_lexer": "ipython3",
   "version": "3.12.9"
  }
 },
 "nbformat": 4,
 "nbformat_minor": 2
}
