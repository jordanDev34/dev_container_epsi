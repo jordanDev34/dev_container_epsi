{
 "cells": [
  {
   "cell_type": "markdown",
   "id": "dc425c8d",
   "metadata": {},
   "source": [
    "# Machine Learning - Régression Linéaire sur les données de coût de la vie"
   ]
  },
  {
   "cell_type": "markdown",
   "id": "aa053c31",
   "metadata": {},
   "source": [
    "### 1. Importation des bibliothèques nécessaires"
   ]
  },
  {
   "cell_type": "code",
   "execution_count": null,
   "id": "1e209847",
   "metadata": {},
   "outputs": [],
   "source": [
    "import pandas as pd\n",
    "import numpy as np\n",
    "from sklearn.linear_model import LinearRegression\n",
    "from sklearn.model_selection import train_test_split\n",
    "from sklearn.metrics import mean_squared_error"
   ]
  },
  {
   "cell_type": "markdown",
   "id": "9d4b89a1",
   "metadata": {},
   "source": [
    "### 2. Chargement des données"
   ]
  },
  {
   "cell_type": "code",
   "execution_count": null,
   "id": "c0db9148",
   "metadata": {},
   "outputs": [],
   "source": [
    "df = pd.read_csv('cleaned_cost_of_living_data.csv')\n",
    "df.head()"
   ]
  },
  {
   "cell_type": "markdown",
   "id": "ac6447bd",
   "metadata": {},
   "source": [
    "### 3. Nettoyage des données"
   ]
  },
  {
   "cell_type": "code",
   "execution_count": null,
   "id": "71b048a4",
   "metadata": {},
   "outputs": [],
   "source": [
    "\n",
    "# Nettoyage des symboles monétaires dans la colonne 'Price'\n",
    "df['Price'] = df['Price'].replace({'€': '', '$': '', '£': ''}, regex=True)\n",
    "\n",
    "# Conversion de la colonne 'Price' en numérique (float)\n",
    "df['Price'] = pd.to_numeric(df['Price'], errors='coerce')\n",
    "\n",
    "# Suppression des lignes avec des valeurs manquantes\n",
    "df = df.dropna(subset=['Price'])\n",
    "\n",
    "# Vérification du nettoyage\n",
    "df.head()\n",
    "    "
   ]
  },
  {
   "cell_type": "markdown",
   "id": "7963ccd6",
   "metadata": {},
   "source": [
    "### 4. Ingénierie des caractéristiques"
   ]
  },
  {
   "cell_type": "code",
   "execution_count": null,
   "id": "37444c6b",
   "metadata": {},
   "outputs": [],
   "source": [
    "\n",
    "# Conversion en variables booléennes ou numériques\n",
    "df['Feature_1'] = (df['Column_1'] > 100).astype(int)\n",
    "df['Feature_2'] = (df['Column_2'] == 'Yes').astype(int)\n",
    "df.head()\n",
    "    "
   ]
  },
  {
   "cell_type": "markdown",
   "id": "ad5b062f",
   "metadata": {},
   "source": [
    "### 5. Régression Linéaire"
   ]
  },
  {
   "cell_type": "code",
   "execution_count": null,
   "id": "6267eba1",
   "metadata": {},
   "outputs": [],
   "source": [
    "\n",
    "# Séparation des variables indépendantes et de la cible\n",
    "X = df[['Feature_1', 'Feature_2']]  # Variables indépendantes\n",
    "y = df['Price']  # Variable cible (prix)\n",
    "\n",
    "# Je divise les données en ensemble d'entraînement et de test\n",
    "X_train, X_test, y_train, y_test = train_test_split(X, y, test_size=0.2, random_state=42)\n",
    "\n",
    "# Modélisation : Régression Linéaire\n",
    "model = LinearRegression()\n",
    "model.fit(X_train, y_train)\n",
    "\n",
    "# Prédictions et évaluation\n",
    "y_pred = model.predict(X_test)\n",
    "\n",
    "# Calcul du MSE (Mean Squared Error)\n",
    "mse = mean_squared_error(y_test, y_pred)\n",
    "mse\n",
    "    "
   ]
  }
 ],
 "metadata": {
  "language_info": {
   "name": "python"
  }
 },
 "nbformat": 4,
 "nbformat_minor": 5
}
