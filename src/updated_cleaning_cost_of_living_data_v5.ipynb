{
 "cells": [
  {
   "cell_type": "markdown",
   "id": "199d4cfe",
   "metadata": {},
   "source": [
    "# Nettoyage des données avec conservation de toutes les lignes valides"
   ]
  },
  {
   "cell_type": "code",
   "execution_count": null,
   "id": "f0302311",
   "metadata": {},
   "outputs": [],
   "source": [
    "\n",
    "# 3ème Script - Nettoyage des données avec conservation de toutes les lignes valides\n",
    "\n",
    "import pandas as pd\n",
    "\n",
    "# Chargement du fichier CSV contenant les données brutes\n",
    "df = pd.read_csv('scraped_cost_of_living_data.csv')\n",
    "\n",
    "# 1. Création d'une copie explicite pour éviter le warning\n",
    "df_cleaned = df.copy()\n",
    "\n",
    "# 2. Suppression des symboles monétaires (par exemple €, $, £) dans la colonne 'Price'\n",
    "df_cleaned.loc[:, 'Price'] = df_cleaned['Price'].replace({'€': '', '$': '', '£': ''}, regex=True)\n",
    "\n",
    "# 3. Conversion de la colonne 'Price' en numérique (float), en remplaçant les valeurs non convertibles par NaN\n",
    "# df_cleaned['Price'] = pd.to_numeric(df_cleaned['Price'], errors='coerce')\n",
    "\n",
    "# 4. Garder toutes les lignes où 'Price' est valide. Ne supprimer que celles qui sont réellement invalides.\n",
    "# Nous ne supprimons pas les lignes avec des données manquantes dans \"Item\" ou \"Range\".\n",
    "df_cleaned = df_cleaned.dropna(subset=['Price'])\n",
    "\n",
    "# 5. Affichage des 5 premières lignes des données nettoyées\n",
    "df_cleaned.head()\n",
    "\n",
    "# 6. Sauvegarde des données nettoyées dans un nouveau fichier CSV\n",
    "df_cleaned.to_csv('cleaned_cost_of_living_data_v5.csv', index=False, encoding='utf-8')\n",
    "print(\"Les données nettoyées ont été enregistrées dans 'cleaned_cost_of_living_data_v5.csv'.\")\n"
   ]
  }
 ],
 "metadata": {
  "language_info": {
   "name": "python"
  }
 },
 "nbformat": 4,
 "nbformat_minor": 5
}
